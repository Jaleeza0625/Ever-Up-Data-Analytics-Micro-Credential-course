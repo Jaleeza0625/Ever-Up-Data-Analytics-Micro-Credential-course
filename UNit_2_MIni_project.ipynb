{
  "nbformat": 4,
  "nbformat_minor": 0,
  "metadata": {
    "colab": {
      "name": "UNit 2 MIni project.ipynb",
      "provenance": [],
      "authorship_tag": "ABX9TyNoouF9ztoX+BCRcY3kzV+r",
      "include_colab_link": true
    },
    "kernelspec": {
      "name": "python3",
      "display_name": "Python 3"
    },
    "language_info": {
      "name": "python"
    }
  },
  "cells": [
    {
      "cell_type": "markdown",
      "metadata": {
        "id": "view-in-github",
        "colab_type": "text"
      },
      "source": [
        "<a href=\"https://colab.research.google.com/github/Jaleeza0625/Ever-Up-Data-Analytics-Micro-Credential-course/blob/main/UNit_2_MIni_project.ipynb\" target=\"_parent\"><img src=\"https://colab.research.google.com/assets/colab-badge.svg\" alt=\"Open In Colab\"/></a>"
      ]
    },
    {
      "cell_type": "markdown",
      "source": [
        "#Even or Odd"
      ],
      "metadata": {
        "id": "98l8KbkNv_7I"
      }
    },
    {
      "cell_type": "code",
      "source": [
        "#define iseven\n",
        "def iseven(num):\n",
        "#divide the number by two\n",
        "  if num%2==0 and num%4!=0:\n",
        "#print the number is even if it's divisible by two\n",
        "    print(num, \"is even\")\n",
        "  if num%4==0:\n",
        "    print(num ,\"is a multiple of 4\")\n",
        "  else:\n",
        "#print the number is odd if it is not divisible by two\n",
        "    print(num,\"is odd\")"
      ],
      "metadata": {
        "id": "fpyERwcRwHwX"
      },
      "execution_count": 18,
      "outputs": []
    },
    {
      "cell_type": "code",
      "source": [
        "#enter a number\n",
        "num=int(input(\"Enter a number:\"))\n",
        "#call the function\n",
        "iseven(num)"
      ],
      "metadata": {
        "colab": {
          "base_uri": "https://localhost:8080/"
        },
        "id": "b9ACZurIxqbg",
        "outputId": "008b1721-894b-42bf-8fdf-287ddfbacf5b"
      },
      "execution_count": 19,
      "outputs": [
        {
          "output_type": "stream",
          "name": "stdout",
          "text": [
            "Enter a number:16\n",
            "16 is a multiple of 4\n"
          ]
        }
      ]
    },
    {
      "cell_type": "code",
      "source": [
        "#enter the number\n",
        "num = int(input(\"Enter a value do you like \")) \n",
        "#enter the check \n",
        "check = int(input(\"Enter a value do you like \")) \n",
        "#divide the number by the check\n",
        "if (num % check) == 0: \n",
        "#the number is divisible by the check\n",
        "  print(\"check divides evenly into num\") \n",
        "else: \n",
        "  #the number isn't divisible by the check\n",
        "  print(\"Check does not divide evenly into num\")"
      ],
      "metadata": {
        "colab": {
          "base_uri": "https://localhost:8080/"
        },
        "id": "gX-8CjWn14-x",
        "outputId": "3f092f3e-a06e-4b9e-c40d-244fab088005"
      },
      "execution_count": 23,
      "outputs": [
        {
          "output_type": "stream",
          "name": "stdout",
          "text": [
            "Enter a value do you like 32\n",
            "Enter a value do you like 8\n",
            "check divides evenly into num\n"
          ]
        }
      ]
    }
  ]
}