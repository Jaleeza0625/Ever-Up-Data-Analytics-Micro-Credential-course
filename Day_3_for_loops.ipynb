{
  "nbformat": 4,
  "nbformat_minor": 0,
  "metadata": {
    "colab": {
      "name": "Day 3 for loops.ipynb",
      "provenance": [],
      "authorship_tag": "ABX9TyNY2+OTu4TU3W/R1IJHtLy0",
      "include_colab_link": true
    },
    "kernelspec": {
      "name": "python3",
      "display_name": "Python 3"
    },
    "language_info": {
      "name": "python"
    }
  },
  "cells": [
    {
      "cell_type": "markdown",
      "metadata": {
        "id": "view-in-github",
        "colab_type": "text"
      },
      "source": [
        "<a href=\"https://colab.research.google.com/github/Jaleeza0625/Ever-Up-Data-Analytics-Micro-Credential-course/blob/main/Day_3_for_loops.ipynb\" target=\"_parent\"><img src=\"https://colab.research.google.com/assets/colab-badge.svg\" alt=\"Open In Colab\"/></a>"
      ]
    },
    {
      "cell_type": "code",
      "execution_count": 2,
      "metadata": {
        "colab": {
          "base_uri": "https://localhost:8080/"
        },
        "id": "hIQkk4Kh7FPY",
        "outputId": "dca54425-1f4f-4a4e-f29f-2e50a6f0e82e"
      },
      "outputs": [
        {
          "output_type": "stream",
          "name": "stdout",
          "text": [
            "C\n",
            "U\n",
            "N\n",
            "Y\n"
          ]
        }
      ],
      "source": [
        "for x in \"CUNY\":\n",
        "  print(x)"
      ]
    },
    {
      "cell_type": "code",
      "source": [
        "TV_Shows = ['Game of Thrones', 'Star Trek', 'Stranger Things']\n"
      ],
      "metadata": {
        "id": "vi2ldlYT8gWb"
      },
      "execution_count": 4,
      "outputs": []
    },
    {
      "cell_type": "code",
      "source": [
        "for i in TV_Shows:\n",
        "  print(i)\n"
      ],
      "metadata": {
        "colab": {
          "base_uri": "https://localhost:8080/"
        },
        "id": "Gu0GDRqt8ntb",
        "outputId": "eda3891a-4796-4781-a6db-92eb51df8826"
      },
      "execution_count": 5,
      "outputs": [
        {
          "output_type": "stream",
          "name": "stdout",
          "text": [
            "Game of Thrones\n",
            "Star Trek\n",
            "Stranger Things\n"
          ]
        }
      ]
    },
    {
      "cell_type": "code",
      "source": [
        "for show in TV_Shows:\n",
        "  print(show.upper() + ' is one of my fav TV shows')"
      ],
      "metadata": {
        "colab": {
          "base_uri": "https://localhost:8080/"
        },
        "id": "d6sAJ8ov8snY",
        "outputId": "bae1f430-4423-4a8c-aba2-ab0606ee15cb"
      },
      "execution_count": 6,
      "outputs": [
        {
          "output_type": "stream",
          "name": "stdout",
          "text": [
            "GAME OF THRONES is one of my fav TV shows\n",
            "STAR TREK is one of my fav TV shows\n",
            "STRANGER THINGS is one of my fav TV shows\n"
          ]
        }
      ]
    },
    {
      "cell_type": "code",
      "source": [
        "for x in range(1,21):\n",
        "  print(x+3)"
      ],
      "metadata": {
        "colab": {
          "base_uri": "https://localhost:8080/"
        },
        "id": "Ap77oGCtE2dK",
        "outputId": "eb4197ab-2e5b-4fbc-d236-9c149db96009"
      },
      "execution_count": 7,
      "outputs": [
        {
          "output_type": "stream",
          "name": "stdout",
          "text": [
            "4\n",
            "5\n",
            "6\n",
            "7\n",
            "8\n",
            "9\n",
            "10\n",
            "11\n",
            "12\n",
            "13\n",
            "14\n",
            "15\n",
            "16\n",
            "17\n",
            "18\n",
            "19\n",
            "20\n",
            "21\n",
            "22\n",
            "23\n"
          ]
        }
      ]
    },
    {
      "cell_type": "code",
      "source": [
        "num = list(range(21, 1, -1))\n",
        "\n",
        "# for x in list(range(1,11)):\n",
        "#   print(x)"
      ],
      "metadata": {
        "id": "AQ98GtKuE5G-"
      },
      "execution_count": 9,
      "outputs": []
    },
    {
      "cell_type": "code",
      "source": [
        "num"
      ],
      "metadata": {
        "colab": {
          "base_uri": "https://localhost:8080/"
        },
        "id": "qaTYld3HFEOR",
        "outputId": "e1669816-9da2-4b0c-ace2-e1cb0a02d265"
      },
      "execution_count": 10,
      "outputs": [
        {
          "output_type": "execute_result",
          "data": {
            "text/plain": [
              "[21, 20, 19, 18, 17, 16, 15, 14, 13, 12, 11, 10, 9, 8, 7, 6, 5, 4, 3, 2]"
            ]
          },
          "metadata": {},
          "execution_count": 10
        }
      ]
    },
    {
      "cell_type": "code",
      "source": [
        "len(num)"
      ],
      "metadata": {
        "colab": {
          "base_uri": "https://localhost:8080/"
        },
        "id": "kHLNbJE_FFry",
        "outputId": "94469a12-1f9c-406a-87ab-d6cf8cc291b8"
      },
      "execution_count": 11,
      "outputs": [
        {
          "output_type": "execute_result",
          "data": {
            "text/plain": [
              "20"
            ]
          },
          "metadata": {},
          "execution_count": 11
        }
      ]
    },
    {
      "cell_type": "code",
      "source": [
        "min(num)"
      ],
      "metadata": {
        "colab": {
          "base_uri": "https://localhost:8080/"
        },
        "id": "ygnyBORXFJ8F",
        "outputId": "46d46e4b-a88a-4d08-c15f-704ef21224be"
      },
      "execution_count": 12,
      "outputs": [
        {
          "output_type": "execute_result",
          "data": {
            "text/plain": [
              "2"
            ]
          },
          "metadata": {},
          "execution_count": 12
        }
      ]
    },
    {
      "cell_type": "code",
      "source": [
        "max(num)"
      ],
      "metadata": {
        "colab": {
          "base_uri": "https://localhost:8080/"
        },
        "id": "gtwYQOAqFQFB",
        "outputId": "355af0a6-c850-4ea9-87e6-0a0a4b06d6ea"
      },
      "execution_count": 13,
      "outputs": [
        {
          "output_type": "execute_result",
          "data": {
            "text/plain": [
              "21"
            ]
          },
          "metadata": {},
          "execution_count": 13
        }
      ]
    },
    {
      "cell_type": "code",
      "source": [
        "sum(num)"
      ],
      "metadata": {
        "colab": {
          "base_uri": "https://localhost:8080/"
        },
        "id": "fuI1EiugFSBj",
        "outputId": "57268c83-5609-4941-93f6-5a7605842124"
      },
      "execution_count": 14,
      "outputs": [
        {
          "output_type": "execute_result",
          "data": {
            "text/plain": [
              "230"
            ]
          },
          "metadata": {},
          "execution_count": 14
        }
      ]
    },
    {
      "cell_type": "code",
      "source": [
        "l = [1,2,3,4,5,6,7,8,9,10, 23, 5, 6, 87, 98765, 345, 52, 3465, 4123, 454, 90]"
      ],
      "metadata": {
        "id": "MsTfpZ5lFan8"
      },
      "execution_count": 15,
      "outputs": []
    },
    {
      "cell_type": "code",
      "source": [
        "for num in l:\n",
        "    print(num)"
      ],
      "metadata": {
        "colab": {
          "base_uri": "https://localhost:8080/"
        },
        "id": "5YVwdajdFgM2",
        "outputId": "a0e6691d-ef84-493c-94ea-b3a405e7a591"
      },
      "execution_count": 16,
      "outputs": [
        {
          "output_type": "stream",
          "name": "stdout",
          "text": [
            "1\n",
            "2\n",
            "3\n",
            "4\n",
            "5\n",
            "6\n",
            "7\n",
            "8\n",
            "9\n",
            "10\n",
            "23\n",
            "5\n",
            "6\n",
            "87\n",
            "98765\n",
            "345\n",
            "52\n",
            "3465\n",
            "4123\n",
            "454\n",
            "90\n"
          ]
        }
      ]
    },
    {
      "cell_type": "code",
      "source": [
        "17 % 2"
      ],
      "metadata": {
        "colab": {
          "base_uri": "https://localhost:8080/"
        },
        "id": "CRvaoP8WFkvQ",
        "outputId": "55bdbaca-7066-46e0-862e-c25e935a7df1"
      },
      "execution_count": 17,
      "outputs": [
        {
          "output_type": "execute_result",
          "data": {
            "text/plain": [
              "1"
            ]
          },
          "metadata": {},
          "execution_count": 17
        }
      ]
    },
    {
      "cell_type": "code",
      "source": [
        "18 % 7"
      ],
      "metadata": {
        "colab": {
          "base_uri": "https://localhost:8080/"
        },
        "id": "FdmRZxX2Fq6K",
        "outputId": "3f42ffe7-d2cb-4d0d-ce2e-040902d52e91"
      },
      "execution_count": 18,
      "outputs": [
        {
          "output_type": "execute_result",
          "data": {
            "text/plain": [
              "4"
            ]
          },
          "metadata": {},
          "execution_count": 18
        }
      ]
    },
    {
      "cell_type": "code",
      "source": [
        "for x in l:\n",
        "  if x % 2 == 0:\n",
        "    print(x)\n",
        "  else:\n",
        "    print(x, 'This is not an even number')"
      ],
      "metadata": {
        "colab": {
          "base_uri": "https://localhost:8080/"
        },
        "id": "AcNVVJTxFrDe",
        "outputId": "efdc14cd-260f-4a89-e42c-7e92f7ad5825"
      },
      "execution_count": 19,
      "outputs": [
        {
          "output_type": "stream",
          "name": "stdout",
          "text": [
            "1 This is not an even number\n",
            "2\n",
            "3 This is not an even number\n",
            "4\n",
            "5 This is not an even number\n",
            "6\n",
            "7 This is not an even number\n",
            "8\n",
            "9 This is not an even number\n",
            "10\n",
            "23 This is not an even number\n",
            "5 This is not an even number\n",
            "6\n",
            "87 This is not an even number\n",
            "98765 This is not an even number\n",
            "345 This is not an even number\n",
            "52\n",
            "3465 This is not an even number\n",
            "4123 This is not an even number\n",
            "454\n",
            "90\n"
          ]
        }
      ]
    },
    {
      "cell_type": "code",
      "source": [
        "for x in l:\n",
        "  if x % 2 != 0:\n",
        "    print(x)\n",
        "  else:\n",
        "    print(x, 'This is not an odd number')"
      ],
      "metadata": {
        "colab": {
          "base_uri": "https://localhost:8080/"
        },
        "id": "sT3EpryVF0Lj",
        "outputId": "25bddfad-daf5-40b5-b195-e8eae1409a65"
      },
      "execution_count": 20,
      "outputs": [
        {
          "output_type": "stream",
          "name": "stdout",
          "text": [
            "1\n",
            "2 This is not an odd number\n",
            "3\n",
            "4 This is not an odd number\n",
            "5\n",
            "6 This is not an odd number\n",
            "7\n",
            "8 This is not an odd number\n",
            "9\n",
            "10 This is not an odd number\n",
            "23\n",
            "5\n",
            "6 This is not an odd number\n",
            "87\n",
            "98765\n",
            "345\n",
            "52 This is not an odd number\n",
            "3465\n",
            "4123\n",
            "454 This is not an odd number\n",
            "90 This is not an odd number\n"
          ]
        }
      ]
    },
    {
      "cell_type": "code",
      "source": [
        "for letter in 'This is a string':\n",
        "  print(letter)"
      ],
      "metadata": {
        "colab": {
          "base_uri": "https://localhost:8080/"
        },
        "id": "6kPsXEM3IW8D",
        "outputId": "fc494eab-0fd1-4a27-d113-24726a2e9f6a"
      },
      "execution_count": 23,
      "outputs": [
        {
          "output_type": "stream",
          "name": "stdout",
          "text": [
            "T\n",
            "h\n",
            "i\n",
            "s\n",
            " \n",
            "i\n",
            "s\n",
            " \n",
            "a\n",
            " \n",
            "s\n",
            "t\n",
            "r\n",
            "i\n",
            "n\n",
            "g\n"
          ]
        }
      ]
    },
    {
      "cell_type": "code",
      "source": [
        "l2 = [12, 45, 6, 3, 45, 678, 2, 45657]"
      ],
      "metadata": {
        "id": "CDIOz3PgIujj"
      },
      "execution_count": 24,
      "outputs": []
    },
    {
      "cell_type": "code",
      "source": [
        "listSum = 0\n",
        "\n",
        "for num in l2:\n",
        "  listSum = listSum + num\n",
        "\n",
        "print(listSum)"
      ],
      "metadata": {
        "colab": {
          "base_uri": "https://localhost:8080/"
        },
        "id": "_EL-kvPKIdng",
        "outputId": "95c48ec4-be1f-44ad-deae-7ae9258d4725"
      },
      "execution_count": 25,
      "outputs": [
        {
          "output_type": "stream",
          "name": "stdout",
          "text": [
            "46448\n"
          ]
        }
      ]
    },
    {
      "cell_type": "code",
      "source": [
        "dy = {'k1': 1, 'k2': 2, 'k3': 3, 'k4':4}"
      ],
      "metadata": {
        "id": "dh8xmeMxIoJQ"
      },
      "execution_count": 26,
      "outputs": []
    },
    {
      "cell_type": "code",
      "source": [
        "for item in dy:\n",
        "  print(item)"
      ],
      "metadata": {
        "colab": {
          "base_uri": "https://localhost:8080/"
        },
        "id": "_PAXRufpJDNs",
        "outputId": "51b399b4-976d-4c93-c0a5-236de7ffcabc"
      },
      "execution_count": 27,
      "outputs": [
        {
          "output_type": "stream",
          "name": "stdout",
          "text": [
            "k1\n",
            "k2\n",
            "k3\n",
            "k4\n"
          ]
        }
      ]
    },
    {
      "cell_type": "code",
      "source": [
        "for a,b in dy.items():\n",
        "  print(a)\n",
        "  print(b)"
      ],
      "metadata": {
        "colab": {
          "base_uri": "https://localhost:8080/"
        },
        "id": "_Pm6N3iKJDRT",
        "outputId": "ed3cfc3a-4007-41fa-dc7f-9bbff1205aca"
      },
      "execution_count": 28,
      "outputs": [
        {
          "output_type": "stream",
          "name": "stdout",
          "text": [
            "k1\n",
            "1\n",
            "k2\n",
            "2\n",
            "k3\n",
            "3\n",
            "k4\n",
            "4\n"
          ]
        }
      ]
    }
  ]
}