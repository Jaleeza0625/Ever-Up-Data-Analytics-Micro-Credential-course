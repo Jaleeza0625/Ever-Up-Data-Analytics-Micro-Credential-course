{
  "nbformat": 4,
  "nbformat_minor": 0,
  "metadata": {
    "colab": {
      "name": "Day 4 Function.ipynb",
      "provenance": [],
      "authorship_tag": "ABX9TyO163WZeaQSHWId5qj2jk5l",
      "include_colab_link": true
    },
    "kernelspec": {
      "name": "python3",
      "display_name": "Python 3"
    },
    "language_info": {
      "name": "python"
    }
  },
  "cells": [
    {
      "cell_type": "markdown",
      "metadata": {
        "id": "view-in-github",
        "colab_type": "text"
      },
      "source": [
        "<a href=\"https://colab.research.google.com/github/Jaleeza0625/Ever-Up-Data-Analytics-Micro-Credential-course/blob/main/Day_4_Function.ipynb\" target=\"_parent\"><img src=\"https://colab.research.google.com/assets/colab-badge.svg\" alt=\"Open In Colab\"/></a>"
      ]
    },
    {
      "cell_type": "markdown",
      "source": [
        "#Functions\n",
        "So what is a function?\n",
        "\n",
        "Formally, a function is a useful device that groups together a set of statements so they can be run more than once. They can also let us specify parameters that can serve as inputs to the functions.\n",
        "\n",
        "On a more fundamental level, functions allow us to not have to repeatedly write the same code again and again. If you remember back to the lessons on strings and lists, remember that we used a function len() to get the length of a string. Since checking the length of a sequence is a common task you would want to write a function that can do this repeatedly at command.\n",
        "\n",
        "Functions will be one of most basic levels of reusing code in Python, and it will also allow us to start thinking of program design (we will dive much deeper into the ideas of design when we learn about Object Oriented Programming).\n",
        "\n",
        "[ ]\n"
      ],
      "metadata": {
        "id": "OV9-ZW_WzeuJ"
      }
    },
    {
      "cell_type": "markdown",
      "source": [
        "## def Statements\n",
        "Let's see how to build out a function's syntax in Python. It has the following form:"
      ],
      "metadata": {
        "id": "KvMCyaBa0KM7"
      }
    },
    {
      "cell_type": "code",
      "source": [
        ""
      ],
      "metadata": {
        "id": "YkSN0tnB6lR-"
      },
      "execution_count": null,
      "outputs": []
    },
    {
      "cell_type": "code",
      "source": [
        "def name_of_function(arg1,arg2):\n",
        "    '''\n",
        "    This is where the function's Document String (doc-string) goes\n",
        "    '''\n",
        "    # Do stuff here\n",
        "    #return desired result"
      ],
      "metadata": {
        "id": "HuUjK4vP0VBh"
      },
      "execution_count": null,
      "outputs": []
    },
    {
      "cell_type": "code",
      "source": [
        "def greeting():\n",
        "  \"\"\"\n",
        "  Author: who did this function.\n",
        "  Input: What argiumrents the function takes.\n",
        "  Output: This function displays a greeting\n",
        "  \"\"\"\n",
        "  print('Hi there')"
      ],
      "metadata": {
        "id": "FqhuGQH81REz"
      },
      "execution_count": null,
      "outputs": []
    },
    {
      "cell_type": "code",
      "source": [
        "greeting()"
      ],
      "metadata": {
        "colab": {
          "base_uri": "https://localhost:8080/"
        },
        "id": "F-rp75uQ3peq",
        "outputId": "d5dcfdca-9b83-4908-f6e3-25a0ee518602"
      },
      "execution_count": null,
      "outputs": [
        {
          "output_type": "stream",
          "name": "stdout",
          "text": [
            "Hi there\n"
          ]
        }
      ]
    },
    {
      "cell_type": "code",
      "source": [
        "help(greeting)\n"
      ],
      "metadata": {
        "colab": {
          "base_uri": "https://localhost:8080/"
        },
        "id": "cE2R64gR4har",
        "outputId": "1bf6bd27-4d09-432a-ea35-e56f7b60fab2"
      },
      "execution_count": null,
      "outputs": [
        {
          "output_type": "stream",
          "name": "stdout",
          "text": [
            "Help on function greeting in module __main__:\n",
            "\n",
            "greeting()\n",
            "    Author: who did this function.\n",
            "    Input: What argiumrents the function takes.\n",
            "    Output: This function displays a greeting\n",
            "\n"
          ]
        }
      ]
    },
    {
      "cell_type": "code",
      "source": [
        "def greeting():\n",
        "  '''\n",
        "  This is where the function shows up as a greeting\n",
        "  '''\n",
        "  print(\"Hello! How are you?\")\n"
      ],
      "metadata": {
        "id": "SvIhXOK99A90"
      },
      "execution_count": 21,
      "outputs": []
    },
    {
      "cell_type": "code",
      "source": [
        "greeting()"
      ],
      "metadata": {
        "colab": {
          "base_uri": "https://localhost:8080/"
        },
        "id": "3TckK2FE9E-W",
        "outputId": "582184c3-c166-48e8-9e5b-0c1b689d1141"
      },
      "execution_count": 22,
      "outputs": [
        {
          "output_type": "stream",
          "name": "stdout",
          "text": [
            "Hello! How are you?\n"
          ]
        }
      ]
    },
    {
      "cell_type": "code",
      "source": [
        "def greeting(name):\n",
        "  '''\n",
        "  This is where the function shows up as a greeting\n",
        "  '''\n",
        "  print(\"Hello! \" + name + \". How are you?\")\n"
      ],
      "metadata": {
        "id": "FvbCvSjG4k83"
      },
      "execution_count": 25,
      "outputs": []
    },
    {
      "cell_type": "code",
      "source": [
        "greeting('john')"
      ],
      "metadata": {
        "colab": {
          "base_uri": "https://localhost:8080/"
        },
        "id": "4beG_tpV8l4Q",
        "outputId": "63ea4dad-70c6-4451-e7c6-d8f8776b5f3e"
      },
      "execution_count": 26,
      "outputs": [
        {
          "output_type": "stream",
          "name": "stdout",
          "text": [
            "Hello! john. How are you?\n"
          ]
        }
      ]
    },
    {
      "cell_type": "code",
      "source": [
        "def add_num(x,y):\n",
        "    return x+y"
      ],
      "metadata": {
        "id": "NEMoA3O39qBq"
      },
      "execution_count": 27,
      "outputs": []
    },
    {
      "cell_type": "code",
      "source": [
        "add_num(3, 6)"
      ],
      "metadata": {
        "colab": {
          "base_uri": "https://localhost:8080/"
        },
        "id": "C4bGAOZb9yu4",
        "outputId": "91aa0f5e-5f7c-4629-a46b-54eca4845ea5"
      },
      "execution_count": 28,
      "outputs": [
        {
          "output_type": "execute_result",
          "data": {
            "text/plain": [
              "9"
            ]
          },
          "metadata": {},
          "execution_count": 28
        }
      ]
    },
    {
      "cell_type": "code",
      "source": [
        "def sub_num(x,y):\n",
        "  return x-y"
      ],
      "metadata": {
        "id": "LPXBOrra-FVQ"
      },
      "execution_count": 30,
      "outputs": []
    },
    {
      "cell_type": "code",
      "source": [
        "sub_num(5,13)"
      ],
      "metadata": {
        "colab": {
          "base_uri": "https://localhost:8080/"
        },
        "id": "mfx1HxLs-Wxz",
        "outputId": "1a8ab214-384f-4755-b8c8-2ce1c775457b"
      },
      "execution_count": 31,
      "outputs": [
        {
          "output_type": "execute_result",
          "data": {
            "text/plain": [
              "-8"
            ]
          },
          "metadata": {},
          "execution_count": 31
        }
      ]
    },
    {
      "cell_type": "code",
      "source": [
        "# Simple Calculator\n",
        "\n",
        "def add(x, y): \n",
        "   return x + y\n",
        " \n",
        "def subtract(x, y):\n",
        "   return x - y\n",
        " \n",
        "def multiply(x, y):\n",
        "   return x * y\n",
        " \n",
        "def divide(x, y):\n",
        "   return x / y\n",
        " \n",
        "# Take input from the user\n",
        "\n",
        "print(\"Select operation \")\n",
        "print(\"1: Add\")\n",
        "print(\"2: Subtract\")\n",
        "print(\"3: Multiply\")\n",
        "print(\"4: Divide\")\n",
        " \n",
        "choice = input(\"Enter choice(1/2/3/4):\")\n",
        " \n",
        "num1 = int(input(\"Enter first number: \"))\n",
        "num2 = int(input(\"Enter second number: \"))\n",
        " \n",
        "if choice == '1':\n",
        "   print(num1,\"+\",num2,\"=\", add(num1,num2))\n",
        " \n",
        "elif choice == '2':\n",
        "   print(num1,\"-\",num2,\"=\", subtract(num1,num2))\n",
        " \n",
        "elif choice == '3':\n",
        "   print(num1,\"*\",num2,\"=\", multiply(num1,num2))\n",
        " \n",
        "elif choice == '4':\n",
        "   print(num1,\"/\",num2,\"=\", divide(num1,num2))\n",
        "else:\n",
        "   print(\"Invalid input\")\n",
        "  "
      ],
      "metadata": {
        "id": "2so6fI-RgCOt"
      },
      "execution_count": null,
      "outputs": []
    },
    {
      "cell_type": "code",
      "source": [
        "def greeting(fname, lname, age):\n",
        "  \"\"\"\n",
        "  Author: who did this function.\n",
        "  Input: What argiumrents the function takes.\n",
        "  Output: This function displays a greeting\n",
        "  \"\"\"\n",
        "  print(f'Hi there {fname}, {lname}... You are are {age} years old')"
      ],
      "metadata": {
        "id": "5gGNea0ygNbZ"
      },
      "execution_count": 34,
      "outputs": []
    },
    {
      "cell_type": "code",
      "source": [
        "greeting('General', 'Kenobi', 87)"
      ],
      "metadata": {
        "colab": {
          "base_uri": "https://localhost:8080/"
        },
        "id": "R82qgr8bge3Y",
        "outputId": "9d4eba8f-add7-4b54-e3b4-bb2446d5b275"
      },
      "execution_count": 35,
      "outputs": [
        {
          "output_type": "stream",
          "name": "stdout",
          "text": [
            "Hi there General, Kenobi... You are are 87 years old\n"
          ]
        }
      ]
    },
    {
      "cell_type": "code",
      "source": [
        "def greeting3(name='Mark'):\n",
        "  \"\"\"\n",
        "  Author: who did this function.\n",
        "  Input: What argiumrents the function takes.\n",
        "  Output: This function displays a greeting\n",
        "  \"\"\"\n",
        "  print(f'Hi there {name}')"
      ],
      "metadata": {
        "id": "SQit5Sn3glWL"
      },
      "execution_count": 36,
      "outputs": []
    },
    {
      "cell_type": "code",
      "source": [
        "greeting3('Peter')"
      ],
      "metadata": {
        "colab": {
          "base_uri": "https://localhost:8080/"
        },
        "id": "F-stirNYgnm6",
        "outputId": "8a7a5cdf-fb6c-40d1-c925-a8e4f9bf945a"
      },
      "execution_count": 37,
      "outputs": [
        {
          "output_type": "stream",
          "name": "stdout",
          "text": [
            "Hi there Peter\n"
          ]
        }
      ]
    },
    {
      "cell_type": "code",
      "source": [
        "#define prime number\n",
        "def prime(number):\n",
        "  return False\n",
        "# input a number\n",
        "number = int(input(\"Enter a number: \"))\n",
        "\n",
        "# prime number is always greater than 1\n",
        "if number > 1:\n",
        "    for i in range(2, number):\n",
        "        if (number % i) == 0:\n",
        "            print(number, \"is not a prime number\")\n",
        "            break\n",
        "    else:\n",
        "        print(number, \"is a prime number\")\n",
        "\n",
        "# if the entered number is less than or equal to 1\n",
        "# then it is not prime number\n",
        "else:\n",
        "    print(number, \"is not a prime number\")"
      ],
      "metadata": {
        "colab": {
          "base_uri": "https://localhost:8080/"
        },
        "id": "zYp3VxySixJU",
        "outputId": "bc350964-f2da-41ea-8407-0a599f9f4368"
      },
      "execution_count": 52,
      "outputs": [
        {
          "output_type": "stream",
          "name": "stdout",
          "text": [
            "Enter a number: 15\n",
            "15 is not a prime number\n"
          ]
        }
      ]
    }
  ]
}