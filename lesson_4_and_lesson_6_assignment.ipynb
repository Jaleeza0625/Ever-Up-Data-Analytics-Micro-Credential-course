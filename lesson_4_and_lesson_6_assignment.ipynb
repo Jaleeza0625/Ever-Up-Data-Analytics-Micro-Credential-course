{
  "nbformat": 4,
  "nbformat_minor": 0,
  "metadata": {
    "colab": {
      "name": "lesson 4 and lesson 6 assignment.ipynb",
      "provenance": [],
      "authorship_tag": "ABX9TyMH5+RsY4My7mnDvoAIIDmn",
      "include_colab_link": true
    },
    "kernelspec": {
      "name": "python3",
      "display_name": "Python 3"
    },
    "language_info": {
      "name": "python"
    }
  },
  "cells": [
    {
      "cell_type": "markdown",
      "metadata": {
        "id": "view-in-github",
        "colab_type": "text"
      },
      "source": [
        "<a href=\"https://colab.research.google.com/github/Jaleeza0625/Ever-Up-Data-Analytics-Micro-Credential-course/blob/main/lesson_4_and_lesson_6_assignment.ipynb\" target=\"_parent\"><img src=\"https://colab.research.google.com/assets/colab-badge.svg\" alt=\"Open In Colab\"/></a>"
      ]
    },
    {
      "cell_type": "markdown",
      "source": [
        "#Lesson 4 – Looping"
      ],
      "metadata": {
        "id": "VI0LmFjSaTfj"
      }
    },
    {
      "cell_type": "code",
      "source": [
        "Names = ['john', 'billy', 'jack', 'lisa', 'tina']"
      ],
      "metadata": {
        "id": "5nrJJktxaj2y"
      },
      "execution_count": 74,
      "outputs": []
    },
    {
      "cell_type": "code",
      "source": [
        "for J in Names:\n",
        "  print(J)"
      ],
      "metadata": {
        "colab": {
          "base_uri": "https://localhost:8080/"
        },
        "id": "K1mg3obSdCbd",
        "outputId": "6bf84d7b-306c-4ad2-de25-b60901d13be4"
      },
      "execution_count": 75,
      "outputs": [
        {
          "output_type": "stream",
          "name": "stdout",
          "text": [
            "john\n",
            "billy\n",
            "jack\n",
            "lisa\n",
            "tina\n"
          ]
        }
      ]
    },
    {
      "cell_type": "code",
      "source": [
        "for J in Names:\n",
        "  print( J.upper() + ' is my friend')"
      ],
      "metadata": {
        "colab": {
          "base_uri": "https://localhost:8080/"
        },
        "id": "kEAcZwMydjZg",
        "outputId": "e2e18c5b-3853-4c19-c98b-b7b28ead9046"
      },
      "execution_count": 76,
      "outputs": [
        {
          "output_type": "stream",
          "name": "stdout",
          "text": [
            "JOHN is my friend\n",
            "BILLY is my friend\n",
            "JACK is my friend\n",
            "LISA is my friend\n",
            "TINA is my friend\n"
          ]
        }
      ]
    },
    {
      "cell_type": "code",
      "source": [
        "for x in range(1,21):\n",
        "  if x%2 == 0:\n",
        "    print(x)"
      ],
      "metadata": {
        "colab": {
          "base_uri": "https://localhost:8080/"
        },
        "id": "jq0VRVbxd7Mg",
        "outputId": "62438477-aa8c-46f7-a58e-1accae370f25"
      },
      "execution_count": 60,
      "outputs": [
        {
          "output_type": "stream",
          "name": "stdout",
          "text": [
            "2\n",
            "4\n",
            "6\n",
            "8\n",
            "10\n",
            "12\n",
            "14\n",
            "16\n",
            "18\n",
            "20\n"
          ]
        }
      ]
    },
    {
      "cell_type": "code",
      "source": [
        "Names.sort()\n",
        "print(Names)"
      ],
      "metadata": {
        "colab": {
          "base_uri": "https://localhost:8080/"
        },
        "id": "6taqqIgDeA1p",
        "outputId": "e57de949-900b-47f8-dd73-e9b0d8db9b14"
      },
      "execution_count": 77,
      "outputs": [
        {
          "output_type": "stream",
          "name": "stdout",
          "text": [
            "['billy', 'jack', 'john', 'lisa', 'tina']\n"
          ]
        }
      ]
    },
    {
      "cell_type": "code",
      "source": [
        "for J in Names:\n",
        "  print(J[0:3])"
      ],
      "metadata": {
        "colab": {
          "base_uri": "https://localhost:8080/"
        },
        "id": "fBbYO1XWfr18",
        "outputId": "b6ed62cd-4aaf-4f96-89d8-afd9e7c5f3dc"
      },
      "execution_count": 15,
      "outputs": [
        {
          "output_type": "stream",
          "name": "stdout",
          "text": [
            "Joh\n",
            "bil\n",
            "jac\n",
            "lis\n",
            "tin\n"
          ]
        }
      ]
    },
    {
      "cell_type": "code",
      "source": [
        "for J in Names:\n",
        "  print(J[-2:])"
      ],
      "metadata": {
        "colab": {
          "base_uri": "https://localhost:8080/"
        },
        "id": "h3htmroLgGvc",
        "outputId": "c083e0b8-1022-4e08-c17f-f5d4d84a20a8"
      },
      "execution_count": 18,
      "outputs": [
        {
          "output_type": "stream",
          "name": "stdout",
          "text": [
            "hn\n",
            "ly\n",
            "ck\n",
            "sa\n",
            "na\n"
          ]
        }
      ]
    },
    {
      "cell_type": "markdown",
      "source": [
        "#Lesson: Unit 2 – Python Dictionaries"
      ],
      "metadata": {
        "id": "70w_V9kQaYRV"
      }
    },
    {
      "cell_type": "code",
      "source": [
        "person = {'First Name': 'john', 'Last Name': 'forman'}"
      ],
      "metadata": {
        "id": "-_gF9EJDhcsd"
      },
      "execution_count": 48,
      "outputs": []
    },
    {
      "cell_type": "code",
      "source": [
        "print(person)"
      ],
      "metadata": {
        "colab": {
          "base_uri": "https://localhost:8080/"
        },
        "id": "E-yyLfGVhoK2",
        "outputId": "d55dc434-dd91-4e80-c821-740747ca44be"
      },
      "execution_count": 49,
      "outputs": [
        {
          "output_type": "stream",
          "name": "stdout",
          "text": [
            "{'First Name': 'john', 'Last Name': 'forman'}\n"
          ]
        }
      ]
    },
    {
      "cell_type": "code",
      "source": [
        "  person_name = person['First Name']+ person['Last Name']\n",
        "  print(\"hello there, \"+ person_name)\n",
        "\n"
      ],
      "metadata": {
        "colab": {
          "base_uri": "https://localhost:8080/"
        },
        "id": "vfgWUFOfh0AN",
        "outputId": "57a85f92-fd0e-4a9b-b275-9362f67cafb8"
      },
      "execution_count": 50,
      "outputs": [
        {
          "output_type": "stream",
          "name": "stdout",
          "text": [
            "hello there, johnforman\n"
          ]
        }
      ]
    },
    {
      "cell_type": "code",
      "source": [
        "d = {'key1':101,'key2':202}"
      ],
      "metadata": {
        "id": "ElSbWeIAmpA1"
      },
      "execution_count": 55,
      "outputs": []
    },
    {
      "cell_type": "code",
      "source": [
        "print(person.keys())\n",
        "print(person.values())\n",
        "print(person.items())"
      ],
      "metadata": {
        "colab": {
          "base_uri": "https://localhost:8080/"
        },
        "id": "UF0aNvDDnFFp",
        "outputId": "ed509583-3b0c-4573-c8ca-95308220f49f"
      },
      "execution_count": 59,
      "outputs": [
        {
          "output_type": "stream",
          "name": "stdout",
          "text": [
            "dict_keys(['First Name', 'Last Name', 'DOB', 'color', 'Color'])\n",
            "dict_values(['john', 'forman', '09101995', 'black', 'black'])\n",
            "dict_items([('First Name', 'john'), ('Last Name', 'forman'), ('DOB', '09101995'), ('color', 'black'), ('Color', 'black')])\n"
          ]
        }
      ]
    },
    {
      "cell_type": "code",
      "source": [
        "nested={'person': {'name': 'John', 'eye color':'brown', 'DOB':'09101995'},\n",
        "        'children':{'number of kids': '1','gender': 'female', 'age': \"1\"},\n",
        "        'pet' :{'number of pets':'1', 'type': 'cat', 'color': 'white'}}"
      ],
      "metadata": {
        "id": "uAKKqSYIpCAz"
      },
      "execution_count": 80,
      "outputs": []
    },
    {
      "cell_type": "code",
      "source": [
        "for k,v in nested.items():\n",
        "  print(\"This is the \"+k+' data: ' +str(v))"
      ],
      "metadata": {
        "colab": {
          "base_uri": "https://localhost:8080/"
        },
        "id": "8zYrqCX1vOZ2",
        "outputId": "ddce25fe-092d-448c-89e5-86c4deb0df0a"
      },
      "execution_count": 81,
      "outputs": [
        {
          "output_type": "stream",
          "name": "stdout",
          "text": [
            "This is the person data: {'name': 'John', 'eye color': 'brown', 'DOB': '09101995'}\n",
            "This is the children data: {'number of kids': '1', 'gender': 'female', 'age': '1'}\n",
            "This is the pet data: {'number of pets': '1', 'type': 'cat', 'color': 'white'}\n"
          ]
        }
      ]
    }
  ]
}