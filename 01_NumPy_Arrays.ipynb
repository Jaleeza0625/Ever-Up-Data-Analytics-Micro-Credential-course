{
  "cells": [
    {
      "cell_type": "markdown",
      "metadata": {
        "id": "view-in-github",
        "colab_type": "text"
      },
      "source": [
        "<a href=\"https://colab.research.google.com/github/Jaleeza0625/Ever-Up-Data-Analytics-Micro-Credential-course/blob/main/01_NumPy_Arrays.ipynb\" target=\"_parent\"><img src=\"https://colab.research.google.com/assets/colab-badge.svg\" alt=\"Open In Colab\"/></a>"
      ]
    },
    {
      "cell_type": "markdown",
      "metadata": {
        "id": "og9jFZ2dJ6qr"
      },
      "source": [
        ""
      ]
    },
    {
      "cell_type": "markdown",
      "metadata": {
        "id": "dUaGffY1J6qw"
      },
      "source": [
        "# NumPy \n",
        "\n",
        "NumPy (or Numpy) is a Pyhton Library or Module design for Linear Algebra and Statistical Computation.\n",
        "It is one of the most important modules in python for Data Science since most all of the libraries necessary for  rely on NumPy as one of their main building blocks.\n",
        "\n",
        "Numpy is also incredibly fast, as it has bindings to other programming language libraries such as C++. "
      ]
    },
    {
      "cell_type": "markdown",
      "metadata": {
        "id": "VBACBFGAJ6q1"
      },
      "source": [
        "_______________________________"
      ]
    },
    {
      "cell_type": "markdown",
      "metadata": {
        "id": "e_W6ojq9J6q3"
      },
      "source": [
        "## Using NumPy\n",
        "\n",
        "Once you've installed NumPy you can import it as a library:"
      ]
    },
    {
      "cell_type": "code",
      "execution_count": null,
      "metadata": {
        "collapsed": true,
        "id": "8JvfgtDCJ6q4"
      },
      "outputs": [],
      "source": [
        "import numpy as np\n",
        "# I imported numpt as np"
      ]
    },
    {
      "cell_type": "markdown",
      "metadata": {
        "id": "pU3oCZiUJ6q_"
      },
      "source": [
        "Numpy has many built-in functions and capabilities. We will not have the time to cover them all; we will, however, focus on some of the most important topics such as vectors, arrays, matrices, and number generation. Let's start by discussing arrays.\n",
        "\n",
        "## Numpy Arrays\n",
        "\n",
        "NumPy arrays are the main objects that we will use in this class. \n",
        "\n",
        "Numpy arrays essentially come in two flavors: vectors and matrices. Vectors are strictly 1-dimensional arrays and matrices are 2-dimensional (but you should note a matrix can still have only one row or one column).\n",
        "\n",
        "Let's begin our introduction by exploring how to create NumPy arrays.\n",
        "\n",
        "### Creating NumPy Arrays From a Python List\n",
        "\n",
        "We can create an array by directly converting a list or list of lists:"
      ]
    },
    {
      "cell_type": "code",
      "execution_count": null,
      "metadata": {
        "id": "lRpu8VpYJ6rB",
        "outputId": "ba8af12d-596b-45a2-e26d-cea04648f6a3"
      },
      "outputs": [
        {
          "data": {
            "text/plain": [
              "[1, 2, 3]"
            ]
          },
          "execution_count": 2,
          "metadata": {},
          "output_type": "execute_result"
        }
      ],
      "source": [
        "my_list = [1,2,3]\n",
        "my_list\n",
        "# I created a list called it my_list\n",
        "#print my_list"
      ]
    },
    {
      "cell_type": "code",
      "execution_count": null,
      "metadata": {
        "id": "sK11BUtUJ6rE",
        "outputId": "5da78915-7779-490a-a829-4690a05400bc"
      },
      "outputs": [
        {
          "data": {
            "text/plain": [
              "array([1, 2, 3])"
            ]
          },
          "execution_count": 3,
          "metadata": {},
          "output_type": "execute_result"
        }
      ],
      "source": [
        "np.array(my_list)\n",
        "# I created an array from a list"
      ]
    },
    {
      "cell_type": "code",
      "execution_count": null,
      "metadata": {
        "id": "E5QtGchjJ6rG",
        "outputId": "1129cde3-3eae-43a6-e04d-ee56eedf9cc4"
      },
      "outputs": [
        {
          "data": {
            "text/plain": [
              "[[1, 2, 3], [4, 5, 6], [7, 8, 9]]"
            ]
          },
          "execution_count": 4,
          "metadata": {},
          "output_type": "execute_result"
        }
      ],
      "source": [
        "my_matrix = [[1,2,3],[4,5,6],[7,8,9]]\n",
        "my_matrix\n",
        "# I created a matrix \n",
        "# print matrix"
      ]
    },
    {
      "cell_type": "code",
      "execution_count": null,
      "metadata": {
        "id": "3wI74Hx4J6rI",
        "outputId": "5eec1866-db9e-4e06-a63e-01164e0f12e5"
      },
      "outputs": [
        {
          "data": {
            "text/plain": [
              "array([[1, 2, 3],\n",
              "       [4, 5, 6],\n",
              "       [7, 8, 9]])"
            ]
          },
          "execution_count": 5,
          "metadata": {},
          "output_type": "execute_result"
        }
      ],
      "source": [
        "np.array(my_matrix)\n",
        "# I created array from my matrix"
      ]
    },
    {
      "cell_type": "markdown",
      "metadata": {
        "id": "26qfGxxtJ6rJ"
      },
      "source": [
        "## Built-in Methods\n",
        "\n",
        "There are lots of built-in ways to generate Arrays"
      ]
    },
    {
      "cell_type": "markdown",
      "metadata": {
        "id": "dve7eTulJ6rK"
      },
      "source": [
        "### arange\n",
        "\n",
        "Return evenly spaced values within a given interval."
      ]
    },
    {
      "cell_type": "code",
      "execution_count": 1,
      "metadata": {
        "colab": {
          "base_uri": "https://localhost:8080/",
          "height": 184
        },
        "id": "QqPsZznVJ6rL",
        "outputId": "310a6cd7-f5df-45c9-d2cd-50abd1ec0e44"
      },
      "outputs": [
        {
          "output_type": "error",
          "ename": "NameError",
          "evalue": "ignored",
          "traceback": [
            "\u001b[0;31m---------------------------------------------------------------------------\u001b[0m",
            "\u001b[0;31mNameError\u001b[0m                                 Traceback (most recent call last)",
            "\u001b[0;32m<ipython-input-1-725c8cb82026>\u001b[0m in \u001b[0;36m<module>\u001b[0;34m()\u001b[0m\n\u001b[0;32m----> 1\u001b[0;31m \u001b[0mnp\u001b[0m\u001b[0;34m.\u001b[0m\u001b[0marange\u001b[0m\u001b[0;34m(\u001b[0m\u001b[0;36m0\u001b[0m\u001b[0;34m,\u001b[0m\u001b[0;36m20\u001b[0m\u001b[0;34m)\u001b[0m\u001b[0;34m\u001b[0m\u001b[0;34m\u001b[0m\u001b[0m\n\u001b[0m\u001b[1;32m      2\u001b[0m \u001b[0;31m# I created an array of numbers with a range between 0 and 20, counting by 1\u001b[0m\u001b[0;34m\u001b[0m\u001b[0;34m\u001b[0m\u001b[0;34m\u001b[0m\u001b[0m\n",
            "\u001b[0;31mNameError\u001b[0m: name 'np' is not defined"
          ]
        }
      ],
      "source": [
        "np.arange(0,20)\n",
        "# I created an array of numbers with a range between 0 and 20, counting by 1"
      ]
    },
    {
      "cell_type": "code",
      "execution_count": null,
      "metadata": {
        "id": "S_cd32Z5J6rM"
      },
      "outputs": [],
      "source": [
        "np.arange(0,110,2)\n",
        "# I created an array of numbers between 0 and 110, counting by 2"
      ]
    },
    {
      "cell_type": "markdown",
      "metadata": {
        "id": "PJ9BdassJ6rM"
      },
      "source": [
        "### zeros and ones\n",
        "\n",
        "Generate arrays of zeros or ones"
      ]
    },
    {
      "cell_type": "code",
      "execution_count": null,
      "metadata": {
        "id": "YbeFTb2QJ6rN"
      },
      "outputs": [],
      "source": [
        "np.zeros(5)\n",
        "# I created an array of 1 list of 5 zeros "
      ]
    },
    {
      "cell_type": "code",
      "execution_count": null,
      "metadata": {
        "id": "My4_ik6ZJ6rO"
      },
      "outputs": [],
      "source": [
        "np.zeros((15,15))\n",
        "# I created an array of 15 list of 15 zeros"
      ]
    },
    {
      "cell_type": "code",
      "execution_count": null,
      "metadata": {
        "id": "6X5f8lBhJ6rP"
      },
      "outputs": [],
      "source": [
        "np.ones(30)\n",
        "# I created an array of 30 ones"
      ]
    },
    {
      "cell_type": "code",
      "execution_count": null,
      "metadata": {
        "id": "w5Y7pxRLJ6rQ"
      },
      "outputs": [],
      "source": [
        "np.ones((30,30))\n",
        "# I created an array"
      ]
    },
    {
      "cell_type": "markdown",
      "metadata": {
        "id": "KRsBUwacJ6rR"
      },
      "source": [
        "### linspace\n",
        "Return evenly spaced numbers over a specified interval."
      ]
    },
    {
      "cell_type": "code",
      "execution_count": null,
      "metadata": {
        "id": "WoI7A2KRJ6rS"
      },
      "outputs": [],
      "source": [
        "np.linspace(0,100,5)\n",
        "# the range is from 0 to 100,\n",
        "# the interval is being divided equally by 5"
      ]
    },
    {
      "cell_type": "code",
      "execution_count": null,
      "metadata": {
        "id": "LaQysik_J6rS"
      },
      "outputs": [],
      "source": [
        "np.linspace(0,10,50)\n",
        "# the range is from 0 to 10\n",
        "# the interval is being divided equally by 50"
      ]
    },
    {
      "cell_type": "markdown",
      "metadata": {
        "id": "KkdJe7PTJ6rT"
      },
      "source": [
        "## eye\n",
        "\n",
        "Creates an identity matrix"
      ]
    },
    {
      "cell_type": "code",
      "execution_count": null,
      "metadata": {
        "id": "UU9ScTYbJ6rT",
        "outputId": "3cc5d628-06fe-470d-d6d8-f330bd280d6d"
      },
      "outputs": [
        {
          "data": {
            "text/plain": [
              "array([[1., 0., 0., 0., 0., 0.],\n",
              "       [0., 1., 0., 0., 0., 0.],\n",
              "       [0., 0., 1., 0., 0., 0.],\n",
              "       [0., 0., 0., 1., 0., 0.],\n",
              "       [0., 0., 0., 0., 1., 0.],\n",
              "       [0., 0., 0., 0., 0., 1.]])"
            ]
          },
          "execution_count": 15,
          "metadata": {},
          "output_type": "execute_result"
        }
      ],
      "source": [
        "np.eye(6)\n",
        "#I created a matrix that has six list with 6 values in each with ones on the main diagonal."
      ]
    },
    {
      "cell_type": "markdown",
      "metadata": {
        "id": "UdXR2v-XJ6rU"
      },
      "source": [
        "## Random \n",
        "\n",
        "Numpy also has lots of ways to create random number arrays:\n",
        "\n",
        "### rand\n",
        "Create an array of the given shape and populate it with\n",
        "random samples from a uniform distribution\n",
        "over ``[0, 1)``."
      ]
    },
    {
      "cell_type": "code",
      "execution_count": null,
      "metadata": {
        "id": "QzDhCBTOJ6rV",
        "outputId": "db336f70-e4a6-4446-fc63-0399c0a4b25f"
      },
      "outputs": [
        {
          "data": {
            "text/plain": [
              "array([0.39532853, 0.28767256, 0.63723705, 0.81958848, 0.10552333])"
            ]
          },
          "execution_count": 16,
          "metadata": {},
          "output_type": "execute_result"
        }
      ],
      "source": [
        "np.random.rand(5)"
      ]
    },
    {
      "cell_type": "code",
      "execution_count": null,
      "metadata": {
        "id": "SZfdVoq2J6rV",
        "outputId": "2ac539a0-0353-4add-d926-08b9a91c9fde"
      },
      "outputs": [
        {
          "data": {
            "text/plain": [
              "array([[0.75592607, 0.32027948, 0.03774677, 0.51778968, 0.457934  ,\n",
              "        0.93147896, 0.5319068 , 0.62402026, 0.40365503, 0.67132405],\n",
              "       [0.88450923, 0.42593345, 0.61866847, 0.48740643, 0.91857095,\n",
              "        0.30244395, 0.92264687, 0.14247435, 0.01606613, 0.93381843],\n",
              "       [0.28341242, 0.33066782, 0.313009  , 0.95639412, 0.86752674,\n",
              "        0.98012814, 0.02840947, 0.28114315, 0.36567471, 0.04502322],\n",
              "       [0.76821622, 0.70482945, 0.22303135, 0.84708819, 0.53813128,\n",
              "        0.72475293, 0.50899286, 0.4178185 , 0.14178324, 0.83432446],\n",
              "       [0.6930306 , 0.2794972 , 0.79093666, 0.68712927, 0.41286361,\n",
              "        0.09545309, 0.85092   , 0.45825814, 0.09141022, 0.69963027],\n",
              "       [0.69576628, 0.88624393, 0.12454747, 0.80183198, 0.68566186,\n",
              "        0.52715625, 0.46118396, 0.47221171, 0.42487931, 0.84994482],\n",
              "       [0.39593907, 0.69663989, 0.12258968, 0.27626576, 0.77464041,\n",
              "        0.46521979, 0.41481244, 0.12045694, 0.2333648 , 0.46401901],\n",
              "       [0.36973058, 0.18989573, 0.85170564, 0.09873524, 0.41089306,\n",
              "        0.08486238, 0.55655816, 0.8068951 , 0.06172967, 0.04519234],\n",
              "       [0.02584725, 0.28560997, 0.44454078, 0.7800004 , 0.58403115,\n",
              "        0.29933226, 0.52362502, 0.51609107, 0.60309614, 0.83858365],\n",
              "       [0.04281262, 0.85072941, 0.32740522, 0.2546206 , 0.71872113,\n",
              "        0.73884467, 0.83926018, 0.68733242, 0.25592684, 0.25040905]])"
            ]
          },
          "execution_count": 17,
          "metadata": {},
          "output_type": "execute_result"
        }
      ],
      "source": [
        "np.random.rand(10,10)"
      ]
    },
    {
      "cell_type": "markdown",
      "metadata": {
        "id": "DgThWqr6J6rW"
      },
      "source": [
        "### randn\n",
        "\n",
        "Return a sample (or samples) from the \"standard normal\" distribution. Unlike rand which is uniform:"
      ]
    },
    {
      "cell_type": "code",
      "execution_count": null,
      "metadata": {
        "id": "O-LKDtiBJ6rW",
        "outputId": "0771ef54-c594-45aa-c9b7-a13910d7a549"
      },
      "outputs": [
        {
          "data": {
            "text/plain": [
              "array([ 0.15307217, -0.49668995, -0.81589313,  0.21629096, -1.30261164,\n",
              "       -1.71880462, -1.12814927, -0.61523896, -1.03080909, -1.05664352,\n",
              "       -0.53076739,  0.37282043,  0.89782094, -0.80127515, -1.25205889,\n",
              "       -0.59909755,  0.44593657,  0.55894691,  0.05477751, -1.68375432])"
            ]
          },
          "execution_count": 18,
          "metadata": {},
          "output_type": "execute_result"
        }
      ],
      "source": [
        "np.random.randn(20)"
      ]
    },
    {
      "cell_type": "code",
      "execution_count": null,
      "metadata": {
        "id": "ktkWkuNTJ6rX",
        "outputId": "f167545e-57fd-40bc-e0e1-f24a03f72ee6"
      },
      "outputs": [
        {
          "data": {
            "text/plain": [
              "array([[-0.44184508,  1.01064116,  1.99833887,  0.21577714, -0.02530655],\n",
              "       [ 0.27859028,  0.71287888,  0.91119295,  0.82792409,  1.25512526],\n",
              "       [ 0.78096458, -1.16099471,  0.58783187,  0.61747119, -0.60430031],\n",
              "       [ 0.29022728, -2.27124336, -0.10400327, -1.31632786,  0.24033699],\n",
              "       [-1.90967447,  0.67088679, -0.38483304, -3.10878247, -0.24176113]])"
            ]
          },
          "execution_count": 19,
          "metadata": {},
          "output_type": "execute_result"
        }
      ],
      "source": [
        "np.random.randn(5,5)"
      ]
    },
    {
      "cell_type": "markdown",
      "metadata": {
        "id": "wSYkEvKMJ6rX"
      },
      "source": [
        "### randint\n",
        "Return random integers from `low` (inclusive) to `high` (exclusive)."
      ]
    },
    {
      "cell_type": "code",
      "execution_count": null,
      "metadata": {
        "id": "8P_AuWVVJ6rX",
        "outputId": "db15e473-321f-43de-f7eb-746e98879220"
      },
      "outputs": [
        {
          "data": {
            "text/plain": [
              "48"
            ]
          },
          "execution_count": 20,
          "metadata": {},
          "output_type": "execute_result"
        }
      ],
      "source": [
        "np.random.randint(1,500)"
      ]
    },
    {
      "cell_type": "code",
      "execution_count": null,
      "metadata": {
        "id": "OKNImKaMJ6rY",
        "outputId": "031ddc60-f65c-4895-834a-b3c96089b6c9"
      },
      "outputs": [
        {
          "data": {
            "text/plain": [
              "array([ 88,  82, 399, 246, 522, 777, 104, 749, 647, 424, 615, 157, 516,\n",
              "       810, 797, 218, 323, 746, 715, 920, 840, 976, 423, 308,  89, 524,\n",
              "       341, 629, 113, 123, 299, 835, 693, 352, 111, 137, 734, 133, 989,\n",
              "       998,  71,  46, 598, 357, 681, 501, 124, 576, 536,  78, 287,  72,\n",
              "       411, 146, 483, 748, 735, 909, 825, 339, 248,  21, 421, 822,  87,\n",
              "       370, 210, 569, 620, 704, 774, 995, 364,  16, 685, 501, 993, 777,\n",
              "        84, 747, 128, 275, 787, 909, 844, 500, 530, 988, 679,  32, 503,\n",
              "       463, 703,   1,  47, 103,  19, 474, 933, 723])"
            ]
          },
          "execution_count": 21,
          "metadata": {},
          "output_type": "execute_result"
        }
      ],
      "source": [
        "np.random.randint(1,1000,100)"
      ]
    },
    {
      "cell_type": "markdown",
      "metadata": {
        "id": "WqLf9_OqJ6rY"
      },
      "source": [
        "## Array Attributes and Methods\n",
        "\n",
        "Let's discuss some useful attributes and methods or an array:"
      ]
    },
    {
      "cell_type": "code",
      "execution_count": null,
      "metadata": {
        "collapsed": true,
        "id": "iCG3QuzYJ6rf"
      },
      "outputs": [],
      "source": [
        "arr = np.arange(50)\n",
        "ranarr = np.random.randint(0,500,10)"
      ]
    },
    {
      "cell_type": "code",
      "execution_count": null,
      "metadata": {
        "id": "GxHseUIgJ6rg",
        "outputId": "fa09107a-a852-409b-dd29-79bdf4ba8d7e"
      },
      "outputs": [
        {
          "data": {
            "text/plain": [
              "array([ 0,  1,  2,  3,  4,  5,  6,  7,  8,  9, 10, 11, 12, 13, 14, 15, 16,\n",
              "       17, 18, 19, 20, 21, 22, 23, 24, 25, 26, 27, 28, 29, 30, 31, 32, 33,\n",
              "       34, 35, 36, 37, 38, 39, 40, 41, 42, 43, 44, 45, 46, 47, 48, 49])"
            ]
          },
          "execution_count": 24,
          "metadata": {},
          "output_type": "execute_result"
        }
      ],
      "source": [
        "arr\n",
        "# created a list with a range between 0 to 50"
      ]
    },
    {
      "cell_type": "code",
      "execution_count": null,
      "metadata": {
        "id": "2j-0pFVLJ6rh",
        "outputId": "4b8fcfb8-ec6f-42e3-8ca9-e550b4b3b342"
      },
      "outputs": [
        {
          "data": {
            "text/plain": [
              "array([184, 197, 373, 268,  94, 496, 321, 240,   7, 123])"
            ]
          },
          "execution_count": 25,
          "metadata": {},
          "output_type": "execute_result"
        }
      ],
      "source": [
        "ranarr\n",
        "#created a list of "
      ]
    },
    {
      "cell_type": "markdown",
      "metadata": {
        "id": "zS1tjUL-J6rh"
      },
      "source": [
        "## Reshape\n",
        "Returns an array containing the same data with a new shape."
      ]
    },
    {
      "cell_type": "code",
      "execution_count": null,
      "metadata": {
        "id": "onCZHoXxJ6ri",
        "outputId": "0e13843c-1a55-4cfd-def0-d104be32f2ee"
      },
      "outputs": [
        {
          "data": {
            "text/plain": [
              "array([[ 0,  1,  2,  3,  4],\n",
              "       [ 5,  6,  7,  8,  9],\n",
              "       [10, 11, 12, 13, 14],\n",
              "       [15, 16, 17, 18, 19],\n",
              "       [20, 21, 22, 23, 24],\n",
              "       [25, 26, 27, 28, 29],\n",
              "       [30, 31, 32, 33, 34],\n",
              "       [35, 36, 37, 38, 39],\n",
              "       [40, 41, 42, 43, 44],\n",
              "       [45, 46, 47, 48, 49]])"
            ]
          },
          "execution_count": 29,
          "metadata": {},
          "output_type": "execute_result"
        }
      ],
      "source": [
        "arr.reshape(10,5)\n",
        "#there is a 10 list with 5 values in each"
      ]
    },
    {
      "cell_type": "markdown",
      "metadata": {
        "id": "EVRCVaETJ6ri"
      },
      "source": [
        "### max,min,argmax,argmin\n",
        "\n",
        "These are useful methods for finding max or min values. Or to find their index locations using argmin or argmax"
      ]
    },
    {
      "cell_type": "code",
      "execution_count": null,
      "metadata": {
        "id": "vZbspz5kJ6rk",
        "outputId": "d7bcac76-0904-4fd5-9930-5d2193986bda"
      },
      "outputs": [
        {
          "data": {
            "text/plain": [
              "array([184, 197, 373, 268,  94, 496, 321, 240,   7, 123])"
            ]
          },
          "execution_count": 30,
          "metadata": {},
          "output_type": "execute_result"
        }
      ],
      "source": [
        "ranarr\n",
        "# print out the list"
      ]
    },
    {
      "cell_type": "code",
      "execution_count": null,
      "metadata": {
        "id": "cxpkiV7kJ6rk",
        "outputId": "c8bc2bb3-7c74-43c7-d744-65de1fb2aef8"
      },
      "outputs": [
        {
          "data": {
            "text/plain": [
              "496"
            ]
          },
          "execution_count": 31,
          "metadata": {},
          "output_type": "execute_result"
        }
      ],
      "source": [
        "ranarr.max()\n",
        "# print the maximum values"
      ]
    },
    {
      "cell_type": "code",
      "execution_count": null,
      "metadata": {
        "id": "oe4zeFanJ6rl",
        "outputId": "b6e2cbf9-d2c1-4b85-b50f-cc1923ce2f05"
      },
      "outputs": [
        {
          "data": {
            "text/plain": [
              "5"
            ]
          },
          "execution_count": 32,
          "metadata": {},
          "output_type": "execute_result"
        }
      ],
      "source": [
        "ranarr.argmax()"
      ]
    },
    {
      "cell_type": "code",
      "execution_count": null,
      "metadata": {
        "id": "ZGItcdIRJ6rl",
        "outputId": "93360787-58c6-4510-bdf2-e138c27ca171"
      },
      "outputs": [
        {
          "data": {
            "text/plain": [
              "7"
            ]
          },
          "execution_count": 33,
          "metadata": {},
          "output_type": "execute_result"
        }
      ],
      "source": [
        "ranarr.min()\n",
        "# print the minimum value"
      ]
    },
    {
      "cell_type": "code",
      "execution_count": null,
      "metadata": {
        "id": "XF6JmjJ3J6rl",
        "outputId": "b1f692f8-ad46-4d75-8a77-4b476edec155"
      },
      "outputs": [
        {
          "data": {
            "text/plain": [
              "8"
            ]
          },
          "execution_count": 34,
          "metadata": {},
          "output_type": "execute_result"
        }
      ],
      "source": [
        "ranarr.argmin()"
      ]
    },
    {
      "cell_type": "markdown",
      "metadata": {
        "id": "8yLdMGQsJ6rm"
      },
      "source": [
        "## Shape\n",
        "\n",
        "Shape is an attribute that arrays have (not a method):"
      ]
    },
    {
      "cell_type": "code",
      "execution_count": null,
      "metadata": {
        "id": "JHrpwCUVJ6rm",
        "outputId": "eac747f7-246b-4b6b-99c9-f965931ca18e"
      },
      "outputs": [
        {
          "data": {
            "text/plain": [
              "(50,)"
            ]
          },
          "execution_count": 35,
          "metadata": {},
          "output_type": "execute_result"
        }
      ],
      "source": [
        "# Vector\n",
        "arr.shape"
      ]
    },
    {
      "cell_type": "code",
      "execution_count": null,
      "metadata": {
        "id": "LZ0hXpisJ6rm",
        "outputId": "5b711125-9902-42a5-e534-1e4763dde47a"
      },
      "outputs": [
        {
          "data": {
            "text/plain": [
              "array([[ 0,  1,  2,  3,  4,  5,  6,  7,  8,  9, 10, 11, 12, 13, 14, 15,\n",
              "        16, 17, 18, 19, 20, 21, 22, 23, 24],\n",
              "       [25, 26, 27, 28, 29, 30, 31, 32, 33, 34, 35, 36, 37, 38, 39, 40,\n",
              "        41, 42, 43, 44, 45, 46, 47, 48, 49]])"
            ]
          },
          "execution_count": 37,
          "metadata": {},
          "output_type": "execute_result"
        }
      ],
      "source": [
        "# Notice the two sets of brackets\n",
        "arr.reshape(2,25)"
      ]
    },
    {
      "cell_type": "code",
      "execution_count": null,
      "metadata": {
        "id": "bQMqfZigJ6rn",
        "outputId": "9c468408-199c-4632-d0e3-db7fa632505e"
      },
      "outputs": [
        {
          "data": {
            "text/plain": [
              "(2, 25)"
            ]
          },
          "execution_count": 38,
          "metadata": {},
          "output_type": "execute_result"
        }
      ],
      "source": [
        "arr.reshape(2,25).shape\n",
        "# print out the shape of the current array"
      ]
    },
    {
      "cell_type": "code",
      "execution_count": null,
      "metadata": {
        "id": "H6DDvgPoJ6rn",
        "outputId": "930cfb91-18e9-408c-c991-ccc5adafd9f1"
      },
      "outputs": [
        {
          "data": {
            "text/plain": [
              "array([[ 0,  1],\n",
              "       [ 2,  3],\n",
              "       [ 4,  5],\n",
              "       [ 6,  7],\n",
              "       [ 8,  9],\n",
              "       [10, 11],\n",
              "       [12, 13],\n",
              "       [14, 15],\n",
              "       [16, 17],\n",
              "       [18, 19],\n",
              "       [20, 21],\n",
              "       [22, 23],\n",
              "       [24, 25],\n",
              "       [26, 27],\n",
              "       [28, 29],\n",
              "       [30, 31],\n",
              "       [32, 33],\n",
              "       [34, 35],\n",
              "       [36, 37],\n",
              "       [38, 39],\n",
              "       [40, 41],\n",
              "       [42, 43],\n",
              "       [44, 45],\n",
              "       [46, 47],\n",
              "       [48, 49]])"
            ]
          },
          "execution_count": 39,
          "metadata": {},
          "output_type": "execute_result"
        }
      ],
      "source": [
        "arr.reshape(25,2)\n",
        "# change the shape from 2 list with 25 items to 25 list with 2 items"
      ]
    },
    {
      "cell_type": "code",
      "execution_count": null,
      "metadata": {
        "id": "8ea_qjLrJ6ro",
        "outputId": "e5f1579e-2933-4f0a-d58f-ba6e8a25132d"
      },
      "outputs": [
        {
          "data": {
            "text/plain": [
              "(25, 2)"
            ]
          },
          "execution_count": 40,
          "metadata": {},
          "output_type": "execute_result"
        }
      ],
      "source": [
        "arr.reshape(25,2).shape\n",
        "# print reshape of the array"
      ]
    },
    {
      "cell_type": "markdown",
      "metadata": {
        "id": "WSSSe5WxJ6rp"
      },
      "source": [
        "### dtype\n",
        "\n",
        "You can also grab the data type of the object in the array:"
      ]
    },
    {
      "cell_type": "code",
      "execution_count": null,
      "metadata": {
        "id": "OhpI8tLVJ6rp",
        "outputId": "d56505f3-845c-472c-e39d-f502caead274"
      },
      "outputs": [
        {
          "data": {
            "text/plain": [
              "dtype('int32')"
            ]
          },
          "execution_count": 41,
          "metadata": {},
          "output_type": "execute_result"
        }
      ],
      "source": [
        "arr.dtype"
      ]
    },
    {
      "cell_type": "markdown",
      "metadata": {
        "id": "D2TYs8XbJ6rp"
      },
      "source": [
        "# Good Times!"
      ]
    },
    {
      "cell_type": "code",
      "execution_count": null,
      "metadata": {
        "id": "HIJtIHiLJ6rq"
      },
      "outputs": [],
      "source": [
        ""
      ]
    }
  ],
  "metadata": {
    "kernelspec": {
      "display_name": "Python 3",
      "language": "python",
      "name": "python3"
    },
    "language_info": {
      "codemirror_mode": {
        "name": "ipython",
        "version": 3
      },
      "file_extension": ".py",
      "mimetype": "text/x-python",
      "name": "python",
      "nbconvert_exporter": "python",
      "pygments_lexer": "ipython3",
      "version": "3.6.8"
    },
    "colab": {
      "name": "01-NumPy Arrays.ipynb",
      "provenance": [],
      "include_colab_link": true
    }
  },
  "nbformat": 4,
  "nbformat_minor": 0
}