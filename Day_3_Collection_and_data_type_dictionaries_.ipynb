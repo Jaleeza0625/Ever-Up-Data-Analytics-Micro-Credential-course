{
  "nbformat": 4,
  "nbformat_minor": 0,
  "metadata": {
    "colab": {
      "name": "Day 3 Collection and data type- dictionaries .ipynb",
      "provenance": [],
      "authorship_tag": "ABX9TyPz2jV02kLr7UdhFmlUID6u",
      "include_colab_link": true
    },
    "kernelspec": {
      "name": "python3",
      "display_name": "Python 3"
    },
    "language_info": {
      "name": "python"
    }
  },
  "cells": [
    {
      "cell_type": "markdown",
      "metadata": {
        "id": "view-in-github",
        "colab_type": "text"
      },
      "source": [
        "<a href=\"https://colab.research.google.com/github/Jaleeza0625/Ever-Up-Data-Analytics-Micro-Credential-course/blob/main/Day_3_Collection_and_data_type_dictionaries_.ipynb\" target=\"_parent\"><img src=\"https://colab.research.google.com/assets/colab-badge.svg\" alt=\"Open In Colab\"/></a>"
      ]
    },
    {
      "cell_type": "markdown",
      "source": [
        "#Data Collection type"
      ],
      "metadata": {
        "id": "RbcNCRdQt8sh"
      }
    },
    {
      "cell_type": "markdown",
      "source": [
        "##Dictionaries"
      ],
      "metadata": {
        "id": "GviAgIW4uCpz"
      }
    },
    {
      "cell_type": "code",
      "source": [
        "patient_1 = {'first_name':'john','last_name': \"kimble\"  }\n",
        "print(patient_1['first_name'])\n",
        "print(patient_1['last_name'])\n"
      ],
      "metadata": {
        "colab": {
          "base_uri": "https://localhost:8080/"
        },
        "id": "8TodG_PguGUM",
        "outputId": "3438ace3-3133-4bcc-b1f1-abead2bceb68"
      },
      "execution_count": 5,
      "outputs": [
        {
          "output_type": "stream",
          "name": "stdout",
          "text": [
            "john\n",
            "kimble\n"
          ]
        }
      ]
    },
    {
      "cell_type": "code",
      "source": [
        "  patient_name = patient_1['first_name']\n",
        "  print(\"hello there, \"+ patient_name)\n"
      ],
      "metadata": {
        "colab": {
          "base_uri": "https://localhost:8080/"
        },
        "id": "UsH4w72xwQVe",
        "outputId": "8a68ab1b-43d8-46ed-8a6b-287c96262127"
      },
      "execution_count": 8,
      "outputs": [
        {
          "output_type": "stream",
          "name": "stdout",
          "text": [
            "hello there, john\n"
          ]
        }
      ]
    },
    {
      "cell_type": "code",
      "source": [
        "patient_1['MRN'] = '00000000'\n",
        "patient_1['Last_exam'] = 'echo'\n"
      ],
      "metadata": {
        "id": "Gwy-5jNNwsRf"
      },
      "execution_count": 10,
      "outputs": []
    },
    {
      "cell_type": "code",
      "source": [
        "patient_1"
      ],
      "metadata": {
        "colab": {
          "base_uri": "https://localhost:8080/"
        },
        "id": "a9ZFzMRqxVN3",
        "outputId": "d31b4151-da6f-4c85-d3cb-cef28158f57a"
      },
      "execution_count": 11,
      "outputs": [
        {
          "output_type": "execute_result",
          "data": {
            "text/plain": [
              "{'Last_exam': 'echo',\n",
              " 'MRN': '00000000',\n",
              " 'first_name': 'john',\n",
              " 'last_name': 'kimble'}"
            ]
          },
          "metadata": {},
          "execution_count": 11
        }
      ]
    },
    {
      "cell_type": "code",
      "source": [
        "patient_2={}\n",
        "patient_2['first_name'] = 'Jean'\n",
        "patient_2['last_name'] = 'picard'\n",
        "print(patient_2)"
      ],
      "metadata": {
        "colab": {
          "base_uri": "https://localhost:8080/"
        },
        "id": "1sEUvLQTxnUI",
        "outputId": "2aa14d49-ab1b-472b-fda8-90e4cbc22be8"
      },
      "execution_count": 14,
      "outputs": [
        {
          "output_type": "stream",
          "name": "stdout",
          "text": [
            "{'first_name': 'Jean', 'last_name': 'picard'}\n"
          ]
        }
      ]
    },
    {
      "cell_type": "code",
      "source": [
        "patient_2['Fruits'] = 'apple'\n",
        "patient_2['Object'] = 'Floor'\n",
        "patient_2['DOB']= '03241985'\n"
      ],
      "metadata": {
        "id": "osuyTBVM42pX"
      },
      "execution_count": 29,
      "outputs": []
    },
    {
      "cell_type": "code",
      "source": [
        "patient_2"
      ],
      "metadata": {
        "colab": {
          "base_uri": "https://localhost:8080/"
        },
        "id": "RSWtkHsw5ZXB",
        "outputId": "a21187dc-ed3d-48a0-ee8f-4f71e90e4cc5"
      },
      "execution_count": 30,
      "outputs": [
        {
          "output_type": "execute_result",
          "data": {
            "text/plain": [
              "{'DOB': '03241985',\n",
              " 'Fruits': 'apple',\n",
              " 'Object': 'Floor',\n",
              " 'first_name': 'Jean',\n",
              " 'last_name': 'picard'}"
            ]
          },
          "metadata": {},
          "execution_count": 30
        }
      ]
    },
    {
      "cell_type": "code",
      "source": [
        "del patient_2['Object']\n",
        "patient_2\n"
      ],
      "metadata": {
        "colab": {
          "base_uri": "https://localhost:8080/"
        },
        "id": "h5Z8sI-E5cLy",
        "outputId": "0b332a5e-5f1e-488c-b2d9-4a457f431b45"
      },
      "execution_count": 31,
      "outputs": [
        {
          "output_type": "execute_result",
          "data": {
            "text/plain": [
              "{'DOB': '03241985',\n",
              " 'Fruits': 'apple',\n",
              " 'first_name': 'Jean',\n",
              " 'last_name': 'picard'}"
            ]
          },
          "metadata": {},
          "execution_count": 31
        }
      ]
    },
    {
      "cell_type": "code",
      "source": [
        "patient_2['Object'] = ['fruits', 12, 2.4, 'strings']\n",
        "patient_2"
      ],
      "metadata": {
        "colab": {
          "base_uri": "https://localhost:8080/"
        },
        "id": "LHWLVR-N5nuh",
        "outputId": "68d6a165-e6dc-4dc3-8857-791e0c6ba525"
      },
      "execution_count": 32,
      "outputs": [
        {
          "output_type": "execute_result",
          "data": {
            "text/plain": [
              "{'DOB': '03241985',\n",
              " 'Fruits': 'apple',\n",
              " 'Object': ['fruits', 12, 2.4, 'strings'],\n",
              " 'first_name': 'Jean',\n",
              " 'last_name': 'picard'}"
            ]
          },
          "metadata": {},
          "execution_count": 32
        }
      ]
    },
    {
      "cell_type": "code",
      "source": [
        "del patient_2['Object']\n",
        "patient_2"
      ],
      "metadata": {
        "colab": {
          "base_uri": "https://localhost:8080/"
        },
        "id": "Vk7q4fv45tzE",
        "outputId": "04be84b7-3062-41d8-8c93-100f588064d7"
      },
      "execution_count": 33,
      "outputs": [
        {
          "output_type": "execute_result",
          "data": {
            "text/plain": [
              "{'DOB': '03241985',\n",
              " 'Fruits': 'apple',\n",
              " 'first_name': 'Jean',\n",
              " 'last_name': 'picard'}"
            ]
          },
          "metadata": {},
          "execution_count": 33
        }
      ]
    },
    {
      "cell_type": "code",
      "source": [
        "patient_2['Object'] = ['fruits', 12, 2.4, 'strings']\n",
        "patient_2['Object'][-1][3:]\n"
      ],
      "metadata": {
        "colab": {
          "base_uri": "https://localhost:8080/",
          "height": 35
        },
        "id": "eSR9KU1-55oo",
        "outputId": "058be8cb-b618-49a8-a70b-24952de35ad8"
      },
      "execution_count": 34,
      "outputs": [
        {
          "output_type": "execute_result",
          "data": {
            "application/vnd.google.colaboratory.intrinsic+json": {
              "type": "string"
            },
            "text/plain": [
              "'ings'"
            ]
          },
          "metadata": {},
          "execution_count": 34
        }
      ]
    },
    {
      "cell_type": "code",
      "source": [
        "patient_2['Object'][0].upper()"
      ],
      "metadata": {
        "colab": {
          "base_uri": "https://localhost:8080/",
          "height": 35
        },
        "id": "z1eomGHR6IG3",
        "outputId": "890abc7f-60b4-4312-e005-8a766cf7c3c0"
      },
      "execution_count": 35,
      "outputs": [
        {
          "output_type": "execute_result",
          "data": {
            "application/vnd.google.colaboratory.intrinsic+json": {
              "type": "string"
            },
            "text/plain": [
              "'FRUITS'"
            ]
          },
          "metadata": {},
          "execution_count": 35
        }
      ]
    },
    {
      "cell_type": "code",
      "source": [
        "patient_3={'name': 'jack', 'last name': ' sparrow ', 'MRN': '001234567' , 'dob':'02231845' }\n",
        "print(patient_3)"
      ],
      "metadata": {
        "colab": {
          "base_uri": "https://localhost:8080/"
        },
        "id": "CPXUH__9ySLU",
        "outputId": "c3a9c8f5-a17e-4c8e-c188-5750204d4f1d"
      },
      "execution_count": 16,
      "outputs": [
        {
          "output_type": "stream",
          "name": "stdout",
          "text": [
            "{'name': 'jack', 'last name': ' sparrow ', 'MRN': '001234567', 'dob': '02231845'}\n"
          ]
        }
      ]
    },
    {
      "cell_type": "code",
      "source": [
        "print(f'The first name of the Patient is {patient_3[\"name\"]}')\n",
        "print(f'The last name of the Patient is {patient_3[\"last name\"]}')\n",
        "print(f'The ID of the Patient is {patient_3[\"MRN\"]}')\n",
        "print(f'The DOB of the Patient is {patient_3[\"dob\"]}')"
      ],
      "metadata": {
        "colab": {
          "base_uri": "https://localhost:8080/"
        },
        "id": "Csi3Ii7Z0Jtc",
        "outputId": "170947d1-2e47-4355-8fd8-facd7b65c65f"
      },
      "execution_count": 38,
      "outputs": [
        {
          "output_type": "stream",
          "name": "stdout",
          "text": [
            "The first name of the Patient is jack\n",
            "The last name of the Patient is  sparrow \n",
            "The ID of the Patient is 001234567\n",
            "The DOB of the Patient is 02231845\n"
          ]
        }
      ]
    },
    {
      "cell_type": "markdown",
      "source": [
        "## nesting with dictionaries"
      ],
      "metadata": {
        "id": "i56sjSmC1yIy"
      }
    },
    {
      "cell_type": "code",
      "source": [
        "# Dictionary nested inside a dictionary nested in side a dictionary\n",
        "d = {'key1':{'nestkey':{'subnestkey':'value'}}}"
      ],
      "metadata": {
        "id": "zXaZwkM914Iz"
      },
      "execution_count": 23,
      "outputs": []
    },
    {
      "cell_type": "code",
      "source": [
        "# Keep calling the keys\n",
        "d['key1']['nestkey']['subnestkey']"
      ],
      "metadata": {
        "colab": {
          "base_uri": "https://localhost:8080/",
          "height": 35
        },
        "id": "RbSAJGTR3th5",
        "outputId": "677a9a55-9dce-43a7-a901-159258714989"
      },
      "execution_count": 24,
      "outputs": [
        {
          "output_type": "execute_result",
          "data": {
            "application/vnd.google.colaboratory.intrinsic+json": {
              "type": "string"
            },
            "text/plain": [
              "'value'"
            ]
          },
          "metadata": {},
          "execution_count": 24
        }
      ]
    },
    {
      "cell_type": "code",
      "source": [
        ""
      ],
      "metadata": {
        "id": "6a-s1SQW30MO"
      },
      "execution_count": null,
      "outputs": []
    },
    {
      "cell_type": "markdown",
      "source": [
        "###dictionary method"
      ],
      "metadata": {
        "id": "wWa5qQhm2KsI"
      }
    },
    {
      "cell_type": "code",
      "source": [
        "# Create a typical dictionary\n",
        "d = {'key1':1,'key2':2,'key3':3}\n"
      ],
      "metadata": {
        "id": "AOJwbFfP2OjC"
      },
      "execution_count": 25,
      "outputs": []
    },
    {
      "cell_type": "code",
      "source": [
        "# Method to return a list of all keys \n",
        "d.keys()"
      ],
      "metadata": {
        "colab": {
          "base_uri": "https://localhost:8080/"
        },
        "id": "mll5FfC64KUl",
        "outputId": "9efdd0b1-fc15-4f08-8cf6-c76bc0af49c0"
      },
      "execution_count": 26,
      "outputs": [
        {
          "output_type": "execute_result",
          "data": {
            "text/plain": [
              "dict_keys(['key1', 'key2', 'key3'])"
            ]
          },
          "metadata": {},
          "execution_count": 26
        }
      ]
    },
    {
      "cell_type": "code",
      "source": [
        "# Method to grab all values\n",
        "d.values()"
      ],
      "metadata": {
        "colab": {
          "base_uri": "https://localhost:8080/"
        },
        "id": "Hpozpb8M4RXc",
        "outputId": "b51d44bf-af6e-42ba-b927-0209e0f02152"
      },
      "execution_count": 27,
      "outputs": [
        {
          "output_type": "execute_result",
          "data": {
            "text/plain": [
              "dict_values([1, 2, 3])"
            ]
          },
          "metadata": {},
          "execution_count": 27
        }
      ]
    },
    {
      "cell_type": "code",
      "source": [
        "# Method to return tuples of all items  (we'll learn about tuples soon)\n",
        "d.items()"
      ],
      "metadata": {
        "colab": {
          "base_uri": "https://localhost:8080/"
        },
        "id": "M6PjLYhA4TeV",
        "outputId": "c2573b44-6e93-4f8c-d24e-3ff0c5260436"
      },
      "execution_count": 28,
      "outputs": [
        {
          "output_type": "execute_result",
          "data": {
            "text/plain": [
              "dict_items([('key1', 1), ('key2', 2), ('key3', 3)])"
            ]
          },
          "metadata": {},
          "execution_count": 28
        }
      ]
    }
  ]
}