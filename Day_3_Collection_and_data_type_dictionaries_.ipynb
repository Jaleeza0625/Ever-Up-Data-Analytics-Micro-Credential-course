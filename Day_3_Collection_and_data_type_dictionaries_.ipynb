{
  "nbformat": 4,
  "nbformat_minor": 0,
  "metadata": {
    "colab": {
      "name": "Day 3 Collection and data type- dictionaries .ipynb",
      "provenance": [],
      "authorship_tag": "ABX9TyPh1W421AegAQhBrCg43gnD",
      "include_colab_link": true
    },
    "kernelspec": {
      "name": "python3",
      "display_name": "Python 3"
    },
    "language_info": {
      "name": "python"
    }
  },
  "cells": [
    {
      "cell_type": "markdown",
      "metadata": {
        "id": "view-in-github",
        "colab_type": "text"
      },
      "source": [
        "<a href=\"https://colab.research.google.com/github/Jaleeza0625/Ever-Up-Data-Analytics-Micro-Credential-course/blob/main/Day_3_Collection_and_data_type_dictionaries_.ipynb\" target=\"_parent\"><img src=\"https://colab.research.google.com/assets/colab-badge.svg\" alt=\"Open In Colab\"/></a>"
      ]
    },
    {
      "cell_type": "markdown",
      "source": [
        "#Data Collection type"
      ],
      "metadata": {
        "id": "RbcNCRdQt8sh"
      }
    },
    {
      "cell_type": "markdown",
      "source": [
        "##Dictionaries"
      ],
      "metadata": {
        "id": "GviAgIW4uCpz"
      }
    },
    {
      "cell_type": "code",
      "source": [
        ""
      ],
      "metadata": {
        "id": "8TodG_PguGUM"
      },
      "execution_count": null,
      "outputs": []
    }
  ]
}